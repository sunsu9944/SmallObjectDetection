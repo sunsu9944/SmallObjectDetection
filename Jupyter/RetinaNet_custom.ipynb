{
 "cells": [
  {
   "cell_type": "markdown",
   "id": "029765e1",
   "metadata": {},
   "source": [
    "# Module Import"
   ]
  },
  {
   "cell_type": "code",
   "execution_count": 1,
   "id": "9cbb47dc",
   "metadata": {
    "ExecuteTime": {
     "end_time": "2023-02-09T12:15:29.128095Z",
     "start_time": "2023-02-09T12:15:27.977874Z"
    }
   },
   "outputs": [],
   "source": [
    "import torch\n",
    "import torch.nn as nn\n",
    "import torch.nn.functional as F\n",
    "import torch.nn.init as init\n",
    "from torchvision.transforms.functional import to_tensor, to_pil_image\n",
    "from torchvision import models\n",
    "from PIL import Image, ImageDraw, ImageFont\n",
    "import os\n",
    "import xml.etree.ElementTree as ET\n",
    "from typing import Any, Callable, Dict, Optional, Tuple, List, Union, Optional\n",
    "import warnings\n",
    "import tarfile\n",
    "import collections\n",
    "import numpy as np\n",
    "import math\n",
    "import matplotlib.pyplot as plt\n",
    "import ast\n",
    "%matplotlib inline\n",
    "\n",
    "import torchvision.transforms as transforms\n",
    "from torch.utils.data import Dataset\n",
    "from torch.utils.data import DataLoader\n",
    "import cv2\n",
    "from torch import optim\n",
    "import albumentations as A\n",
    "from albumentations.pytorch import ToTensorV2\n",
    "import os\n",
    "import time\n",
    "import pandas as pd\n",
    "from tqdm import tqdm\n",
    "import neptune.new as neptune\n",
    "from torch.optim.lr_scheduler import ReduceLROnPlateau\n",
    "\n",
    "device = torch.device('cuda' if torch.cuda.is_available() else 'cpu')\n",
    "NGPU = torch.cuda.device_count()\n"
   ]
  },
  {
   "cell_type": "markdown",
   "id": "e45e422a",
   "metadata": {
    "hide_input": true
   },
   "source": [
    "# CSV Load"
   ]
  },
  {
   "cell_type": "code",
   "execution_count": 2,
   "id": "5dc16a25",
   "metadata": {
    "ExecuteTime": {
     "end_time": "2023-02-09T12:15:29.191802Z",
     "start_time": "2023-02-09T12:15:29.129128Z"
    },
    "hide_input": false
   },
   "outputs": [],
   "source": [
    "train_df = pd.read_csv('../Data/train_df',)\n",
    "val_df = pd.read_csv('../Data/val_df')"
   ]
  },
  {
   "cell_type": "code",
   "execution_count": 3,
   "id": "0ecd96cf",
   "metadata": {
    "ExecuteTime": {
     "end_time": "2023-02-09T12:15:29.195523Z",
     "start_time": "2023-02-09T12:15:29.193068Z"
    }
   },
   "outputs": [
    {
     "data": {
      "text/plain": [
       "32377"
      ]
     },
     "execution_count": 3,
     "metadata": {},
     "output_type": "execute_result"
    }
   ],
   "source": [
    "len(train_df)"
   ]
  },
  {
   "cell_type": "code",
   "execution_count": 4,
   "id": "e195ec73",
   "metadata": {
    "ExecuteTime": {
     "end_time": "2023-02-09T12:15:29.201060Z",
     "start_time": "2023-02-09T12:15:29.196390Z"
    },
    "hide_input": true
   },
   "outputs": [
    {
     "data": {
      "text/html": [
       "<div>\n",
       "<style scoped>\n",
       "    .dataframe tbody tr th:only-of-type {\n",
       "        vertical-align: middle;\n",
       "    }\n",
       "\n",
       "    .dataframe tbody tr th {\n",
       "        vertical-align: top;\n",
       "    }\n",
       "\n",
       "    .dataframe thead th {\n",
       "        text-align: right;\n",
       "    }\n",
       "</style>\n",
       "<table border=\"1\" class=\"dataframe\">\n",
       "  <thead>\n",
       "    <tr style=\"text-align: right;\">\n",
       "      <th></th>\n",
       "      <th>file_name</th>\n",
       "      <th>width</th>\n",
       "      <th>height</th>\n",
       "      <th>category_id</th>\n",
       "      <th>bbox</th>\n",
       "      <th>class_name</th>\n",
       "      <th>obj_num</th>\n",
       "    </tr>\n",
       "  </thead>\n",
       "  <tbody>\n",
       "    <tr>\n",
       "      <th>0</th>\n",
       "      <td>1000145_611.jpg</td>\n",
       "      <td>2800</td>\n",
       "      <td>2100</td>\n",
       "      <td>[0]</td>\n",
       "      <td>[[1502.0442959131642, 1074.98167049341, 167.64...</td>\n",
       "      <td>['줄자']</td>\n",
       "      <td>1</td>\n",
       "    </tr>\n",
       "    <tr>\n",
       "      <th>1</th>\n",
       "      <td>1000230_611.jpg</td>\n",
       "      <td>2800</td>\n",
       "      <td>2100</td>\n",
       "      <td>[16, 16]</td>\n",
       "      <td>[[1517.9282652720503, 939.1521249172392, 142.5...</td>\n",
       "      <td>['너트', '너트']</td>\n",
       "      <td>2</td>\n",
       "    </tr>\n",
       "    <tr>\n",
       "      <th>2</th>\n",
       "      <td>1000231_611.jpg</td>\n",
       "      <td>2800</td>\n",
       "      <td>2100</td>\n",
       "      <td>[16]</td>\n",
       "      <td>[[1281.055125239361, 1085.916432508034, 120.86...</td>\n",
       "      <td>['너트']</td>\n",
       "      <td>1</td>\n",
       "    </tr>\n",
       "    <tr>\n",
       "      <th>3</th>\n",
       "      <td>1000232_611.jpg</td>\n",
       "      <td>2800</td>\n",
       "      <td>2100</td>\n",
       "      <td>[16]</td>\n",
       "      <td>[[933.8948551344544, 1233.435110574467, 138.58...</td>\n",
       "      <td>['너트']</td>\n",
       "      <td>1</td>\n",
       "    </tr>\n",
       "    <tr>\n",
       "      <th>4</th>\n",
       "      <td>1000234_611.jpg</td>\n",
       "      <td>2800</td>\n",
       "      <td>2100</td>\n",
       "      <td>[16]</td>\n",
       "      <td>[[1116.9281633753208, 983.669503208088, 160.26...</td>\n",
       "      <td>['너트']</td>\n",
       "      <td>1</td>\n",
       "    </tr>\n",
       "  </tbody>\n",
       "</table>\n",
       "</div>"
      ],
      "text/plain": [
       "         file_name  width  height category_id  \\\n",
       "0  1000145_611.jpg   2800    2100         [0]   \n",
       "1  1000230_611.jpg   2800    2100    [16, 16]   \n",
       "2  1000231_611.jpg   2800    2100        [16]   \n",
       "3  1000232_611.jpg   2800    2100        [16]   \n",
       "4  1000234_611.jpg   2800    2100        [16]   \n",
       "\n",
       "                                                bbox    class_name  obj_num  \n",
       "0  [[1502.0442959131642, 1074.98167049341, 167.64...        ['줄자']        1  \n",
       "1  [[1517.9282652720503, 939.1521249172392, 142.5...  ['너트', '너트']        2  \n",
       "2  [[1281.055125239361, 1085.916432508034, 120.86...        ['너트']        1  \n",
       "3  [[933.8948551344544, 1233.435110574467, 138.58...        ['너트']        1  \n",
       "4  [[1116.9281633753208, 983.669503208088, 160.26...        ['너트']        1  "
      ]
     },
     "execution_count": 4,
     "metadata": {},
     "output_type": "execute_result"
    }
   ],
   "source": [
    "train_df.head()"
   ]
  },
  {
   "cell_type": "markdown",
   "id": "5ac2e94a",
   "metadata": {},
   "source": [
    "# Encoder"
   ]
  },
  {
   "cell_type": "code",
   "execution_count": 5,
   "id": "25cf65b3",
   "metadata": {
    "ExecuteTime": {
     "end_time": "2023-02-09T12:15:29.206409Z",
     "start_time": "2023-02-09T12:15:29.201740Z"
    },
    "hide_input": false
   },
   "outputs": [
    {
     "data": {
      "text/html": [
       "<div>\n",
       "<style scoped>\n",
       "    .dataframe tbody tr th:only-of-type {\n",
       "        vertical-align: middle;\n",
       "    }\n",
       "\n",
       "    .dataframe tbody tr th {\n",
       "        vertical-align: top;\n",
       "    }\n",
       "\n",
       "    .dataframe thead th {\n",
       "        text-align: right;\n",
       "    }\n",
       "</style>\n",
       "<table border=\"1\" class=\"dataframe\">\n",
       "  <thead>\n",
       "    <tr style=\"text-align: right;\">\n",
       "      <th></th>\n",
       "      <th>class_id</th>\n",
       "      <th>class_name</th>\n",
       "    </tr>\n",
       "  </thead>\n",
       "  <tbody>\n",
       "    <tr>\n",
       "      <th>0</th>\n",
       "      <td>0</td>\n",
       "      <td>줄자</td>\n",
       "    </tr>\n",
       "    <tr>\n",
       "      <th>1</th>\n",
       "      <td>5</td>\n",
       "      <td>건전지</td>\n",
       "    </tr>\n",
       "    <tr>\n",
       "      <th>2</th>\n",
       "      <td>10</td>\n",
       "      <td>버튼(동전)건전지</td>\n",
       "    </tr>\n",
       "    <tr>\n",
       "      <th>3</th>\n",
       "      <td>15</td>\n",
       "      <td>망치</td>\n",
       "    </tr>\n",
       "    <tr>\n",
       "      <th>4</th>\n",
       "      <td>1</td>\n",
       "      <td>못</td>\n",
       "    </tr>\n",
       "    <tr>\n",
       "      <th>5</th>\n",
       "      <td>6</td>\n",
       "      <td>나사못</td>\n",
       "    </tr>\n",
       "    <tr>\n",
       "      <th>6</th>\n",
       "      <td>11</td>\n",
       "      <td>볼트</td>\n",
       "    </tr>\n",
       "    <tr>\n",
       "      <th>7</th>\n",
       "      <td>16</td>\n",
       "      <td>너트</td>\n",
       "    </tr>\n",
       "    <tr>\n",
       "      <th>8</th>\n",
       "      <td>2</td>\n",
       "      <td>와셔</td>\n",
       "    </tr>\n",
       "    <tr>\n",
       "      <th>9</th>\n",
       "      <td>7</td>\n",
       "      <td>드라이버</td>\n",
       "    </tr>\n",
       "    <tr>\n",
       "      <th>10</th>\n",
       "      <td>12</td>\n",
       "      <td>전동드라이버/드릴</td>\n",
       "    </tr>\n",
       "    <tr>\n",
       "      <th>11</th>\n",
       "      <td>17</td>\n",
       "      <td>니퍼/펜치/플라이어</td>\n",
       "    </tr>\n",
       "    <tr>\n",
       "      <th>12</th>\n",
       "      <td>3</td>\n",
       "      <td>스패너/렌치</td>\n",
       "    </tr>\n",
       "    <tr>\n",
       "      <th>13</th>\n",
       "      <td>8</td>\n",
       "      <td>몽키스패너</td>\n",
       "    </tr>\n",
       "    <tr>\n",
       "      <th>14</th>\n",
       "      <td>13</td>\n",
       "      <td>파이프렌치</td>\n",
       "    </tr>\n",
       "    <tr>\n",
       "      <th>15</th>\n",
       "      <td>18</td>\n",
       "      <td>와이어스트리퍼</td>\n",
       "    </tr>\n",
       "    <tr>\n",
       "      <th>16</th>\n",
       "      <td>4</td>\n",
       "      <td>리벳건</td>\n",
       "    </tr>\n",
       "    <tr>\n",
       "      <th>17</th>\n",
       "      <td>9</td>\n",
       "      <td>리벳핀</td>\n",
       "    </tr>\n",
       "    <tr>\n",
       "      <th>18</th>\n",
       "      <td>14</td>\n",
       "      <td>톱</td>\n",
       "    </tr>\n",
       "    <tr>\n",
       "      <th>19</th>\n",
       "      <td>19</td>\n",
       "      <td>대패</td>\n",
       "    </tr>\n",
       "    <tr>\n",
       "      <th>20</th>\n",
       "      <td>20</td>\n",
       "      <td>글루건</td>\n",
       "    </tr>\n",
       "    <tr>\n",
       "      <th>21</th>\n",
       "      <td>21</td>\n",
       "      <td>타카</td>\n",
       "    </tr>\n",
       "    <tr>\n",
       "      <th>22</th>\n",
       "      <td>22</td>\n",
       "      <td>베어링</td>\n",
       "    </tr>\n",
       "    <tr>\n",
       "      <th>23</th>\n",
       "      <td>23</td>\n",
       "      <td>수평계</td>\n",
       "    </tr>\n",
       "  </tbody>\n",
       "</table>\n",
       "</div>"
      ],
      "text/plain": [
       "    class_id  class_name\n",
       "0          0          줄자\n",
       "1          5         건전지\n",
       "2         10   버튼(동전)건전지\n",
       "3         15          망치\n",
       "4          1           못\n",
       "5          6         나사못\n",
       "6         11          볼트\n",
       "7         16          너트\n",
       "8          2          와셔\n",
       "9          7        드라이버\n",
       "10        12   전동드라이버/드릴\n",
       "11        17  니퍼/펜치/플라이어\n",
       "12         3      스패너/렌치\n",
       "13         8       몽키스패너\n",
       "14        13       파이프렌치\n",
       "15        18     와이어스트리퍼\n",
       "16         4         리벳건\n",
       "17         9         리벳핀\n",
       "18        14           톱\n",
       "19        19          대패\n",
       "20        20         글루건\n",
       "21        21          타카\n",
       "22        22         베어링\n",
       "23        23         수평계"
      ]
     },
     "metadata": {},
     "output_type": "display_data"
    }
   ],
   "source": [
    "labelEncoder = {}\n",
    "fixencoder = {}\n",
    "for i in range(24):\n",
    "    fixencoder[i+333] = i\n",
    "    \n",
    "with open('../Data/Raw/Train/label/1000145_611.json') as f:\n",
    "    json_obj = json.load(f)\n",
    "    \n",
    "    categories = json_obj['categories']\n",
    "    for categorie in categories:\n",
    "        labelEncoder[fixencoder[categorie['class_id']]] = categorie['class_name']\n",
    "\n",
    "labelEncoder_Frame = pd.DataFrame(list(labelEncoder.items()), columns=[\"class_id\",\"class_name\"])\n",
    "display(labelEncoder_Frame)"
   ]
  },
  {
   "cell_type": "markdown",
   "id": "7204f035",
   "metadata": {},
   "source": [
    "# TRAINSFORM"
   ]
  },
  {
   "cell_type": "code",
   "execution_count": 6,
   "id": "6a4f86c8",
   "metadata": {
    "ExecuteTime": {
     "end_time": "2023-02-09T12:15:29.209870Z",
     "start_time": "2023-02-09T12:15:29.207201Z"
    }
   },
   "outputs": [],
   "source": [
    "IMAGE_SIZE = 600\n",
    "scale = 1.0\n",
    "\n",
    "train_transforms = A.Compose([\n",
    "                    A.LongestMaxSize(max_size=int(IMAGE_SIZE * scale)),\n",
    "                    A.PadIfNeeded(min_height=int(IMAGE_SIZE*scale), min_width=int(IMAGE_SIZE*scale),border_mode=cv2.BORDER_CONSTANT),\n",
    "                    ToTensorV2()\n",
    "                    ],\n",
    "                    bbox_params=A.BboxParams(format='pascal_voc', min_visibility=0.4, label_fields=[])\n",
    "                    )\n",
    "\n",
    "val_transforms = A.Compose([\n",
    "                    A.LongestMaxSize(max_size=int(IMAGE_SIZE * scale)),\n",
    "                    A.PadIfNeeded(min_height=int(IMAGE_SIZE*scale), min_width=int(IMAGE_SIZE*scale),border_mode=cv2.BORDER_CONSTANT),\n",
    "                    ToTensorV2()\n",
    "                    ],\n",
    "                    bbox_params=A.BboxParams(format='pascal_voc', min_visibility=0.4, label_fields=[])\n",
    "                    )"
   ]
  },
  {
   "cell_type": "markdown",
   "id": "edd942d6",
   "metadata": {},
   "source": [
    "# Data Loader"
   ]
  },
  {
   "cell_type": "markdown",
   "id": "c64ea317",
   "metadata": {},
   "source": [
    "## Train Dataset"
   ]
  },
  {
   "cell_type": "code",
   "execution_count": 7,
   "id": "60705b59",
   "metadata": {
    "ExecuteTime": {
     "end_time": "2023-02-09T12:15:29.214766Z",
     "start_time": "2023-02-09T12:15:29.210542Z"
    }
   },
   "outputs": [],
   "source": [
    "class Train_Dataset(Dataset):\n",
    "    def __init__(self, df, label_encoder=None, is_training=False, transform = None, data_path = '../Data/Raw/Train/image'):\n",
    "        self.file_name = df['file_name'].values #파일이름\n",
    "        self.target = df['bbox'].apply(ast.literal_eval).tolist()#바운딩박스\n",
    "        self.label = df['category_id'].apply(ast.literal_eval).tolist()#class이름\n",
    "        self.objnum = df['obj_num'] #갯수\n",
    "        self.class_name = df['class_name'].apply(ast.literal_eval).tolist()\n",
    "        self.transform = transform\n",
    "        self.label_encoder = label_encoder\n",
    "        self.data_path = data_path\n",
    "        \n",
    "        print(f\"데이터셋 생성 완료\\n데이터셋 사이즈 : {len(self.file_name)}\")\n",
    "        \n",
    "    def __getitem__(self,index):\n",
    "        \n",
    "        img_path = os.path.join(self.data_path, self.file_name[index])\n",
    "        result = {}\n",
    "        image = np.array(Image.open(img_path).convert('RGB'))\n",
    "        target =[self.change_bbox_format(bbox) for bbox in self.target[index]]\n",
    "\n",
    "        if self.transform:\n",
    "            augmentation = self.transform(image = image, bboxes= target)\n",
    "            image = augmentation['image']\n",
    "            target = augmentation['bboxes']\n",
    "            image = image.type(torch.float)\n",
    "            \n",
    "        result[\"boxes\"] = torch.as_tensor(target,dtype = torch.float32)\n",
    "        result[\"labels\"] = torch.as_tensor(self.label[index],dtype = torch.int64)\n",
    "\n",
    "        return image, result\n",
    "    \n",
    "    def __len__(self):\n",
    "        return len(self.file_name)\n",
    "    \n",
    "    @staticmethod\n",
    "    def change_bbox_format(bbox):\n",
    "        x1,y1,w,h = bbox\n",
    "        x2 = x1 + w\n",
    "        y2 = y1 + h\n",
    "        return float(x1),float(y1),float(x2),float(y2)"
   ]
  },
  {
   "cell_type": "markdown",
   "id": "2e075953",
   "metadata": {},
   "source": [
    "## Train 데이터셋 생성"
   ]
  },
  {
   "cell_type": "code",
   "execution_count": 8,
   "id": "2cd073d4",
   "metadata": {
    "ExecuteTime": {
     "end_time": "2023-02-09T12:15:30.126284Z",
     "start_time": "2023-02-09T12:15:29.215450Z"
    }
   },
   "outputs": [
    {
     "name": "stdout",
     "output_type": "stream",
     "text": [
      "데이터셋 생성 완료\n",
      "데이터셋 사이즈 : 32377\n",
      "데이터셋 생성 완료\n",
      "데이터셋 사이즈 : 4287\n"
     ]
    }
   ],
   "source": [
    "train_ds = Train_Dataset(train_df,labelEncoder,transform = train_transforms)\n",
    "val_ds = Train_Dataset(val_df,labelEncoder,transform = val_transforms)"
   ]
  },
  {
   "cell_type": "markdown",
   "id": "a7139801",
   "metadata": {
    "ExecuteTime": {
     "end_time": "2023-01-29T05:42:36.020065Z",
     "start_time": "2023-01-29T05:42:36.017268Z"
    }
   },
   "source": [
    "## 샘플 이미지 확인"
   ]
  },
  {
   "cell_type": "markdown",
   "id": "b7b52956",
   "metadata": {},
   "source": [
    "### 셈플 데이터 로드"
   ]
  },
  {
   "cell_type": "code",
   "execution_count": 9,
   "id": "ffe992f8",
   "metadata": {
    "ExecuteTime": {
     "end_time": "2023-02-09T12:15:30.263079Z",
     "start_time": "2023-02-09T12:15:30.129075Z"
    }
   },
   "outputs": [],
   "source": [
    "img, targets = val_ds[100] # 데이터셋에서 가지고옴"
   ]
  },
  {
   "cell_type": "markdown",
   "id": "0c7d234d",
   "metadata": {},
   "source": [
    "### 시각화 함수 선언"
   ]
  },
  {
   "cell_type": "code",
   "execution_count": 10,
   "id": "aeba20d2",
   "metadata": {
    "ExecuteTime": {
     "end_time": "2023-02-09T12:15:30.266984Z",
     "start_time": "2023-02-09T12:15:30.264981Z"
    }
   },
   "outputs": [],
   "source": [
    "# def show(img, targets, labelEncoder):\n",
    "#     img = to_pil_image(img)\n",
    "#     draw = ImageDraw.Draw(img)\n",
    "#     targets = targets\n",
    "#     width, height = img.size\n",
    "    \n",
    "#     for target,label in zip(targets,labels):\n",
    "#         class_id = int(label)\n",
    "#         bbox = target[:4]\n",
    "#         draw.rectangle(((bbox[0], bbox[1]), (bbox[2],bbox[3] )), outline=(0,255,0), width=1)\n",
    "#     plt.imshow(np.array(img))"
   ]
  },
  {
   "cell_type": "markdown",
   "id": "deece842",
   "metadata": {
    "ExecuteTime": {
     "end_time": "2023-01-29T07:20:29.064270Z",
     "start_time": "2023-01-29T07:20:29.062309Z"
    }
   },
   "source": [
    "### 시각화"
   ]
  },
  {
   "cell_type": "code",
   "execution_count": 11,
   "id": "af19b729",
   "metadata": {
    "ExecuteTime": {
     "end_time": "2023-02-09T12:15:30.278433Z",
     "start_time": "2023-02-09T12:15:30.268522Z"
    }
   },
   "outputs": [],
   "source": [
    "# plt.figure(figsize=(10,10))\n",
    "# show(img, targets, labels,labelEncoder)"
   ]
  },
  {
   "attachments": {
    "image.png": {
     "image/png": "[encoded data removed]"
    }
   },
   "cell_type": "markdown",
   "id": "5fb4e596",
   "metadata": {},
   "source": [
    "# RetinaNet Model 만들기\n",
    "\n",
    "![image.png](attachment:image.png)"
   ]
  },
  {
   "cell_type": "markdown",
   "id": "a5b67e2a",
   "metadata": {},
   "source": [
    "## DataLoader "
   ]
  },
  {
   "cell_type": "code",
   "execution_count": 12,
   "id": "c280a213",
   "metadata": {
    "ExecuteTime": {
     "end_time": "2023-02-09T12:15:30.281604Z",
     "start_time": "2023-02-09T12:15:30.279792Z"
    }
   },
   "outputs": [],
   "source": [
    "# def collate_fn(batch):\n",
    "#     images = []\n",
    "#     targets = []\n",
    "#     labels = []\n",
    "    \n",
    "#     for image, target, label in batch:\n",
    "#         images.append(image)\n",
    "#         targets.append(target)\n",
    "#         labels.append(label)\n",
    "        \n",
    "#     images = torch.stack(images,dim=0)\n",
    "#     targets = [torch.tensor(item) for item in targets]\n",
    "#     labels = [torch.tensor(item) for item in labels]\n",
    "#     print(targets)\n",
    "#     print(labels)\n",
    "#     result = [torch.cat([t, l]) for t, l in zip(targets, labels)]\n",
    "\n",
    "    \n",
    "#     print(len(images), len(result))\n",
    "    \n",
    "#     return images, result"
   ]
  },
  {
   "cell_type": "code",
   "execution_count": 13,
   "id": "5e9fa6e0",
   "metadata": {
    "ExecuteTime": {
     "end_time": "2023-02-09T12:15:30.284757Z",
     "start_time": "2023-02-09T12:15:30.282646Z"
    }
   },
   "outputs": [],
   "source": [
    "def collate_fn(batch):\n",
    "    return tuple(zip(*batch))"
   ]
  },
  {
   "cell_type": "code",
   "execution_count": 14,
   "id": "08d3b50f",
   "metadata": {
    "ExecuteTime": {
     "end_time": "2023-02-09T12:15:30.288267Z",
     "start_time": "2023-02-09T12:15:30.285794Z"
    }
   },
   "outputs": [],
   "source": [
    "def makeDataLoader(params):\n",
    "    batch_size = params['batch_size']\n",
    "    train_dataloader = DataLoader(train_ds,batch_size=batch_size,collate_fn=collate_fn)\n",
    "    val_dataloader = DataLoader(val_ds,batch_size=batch_size,collate_fn=collate_fn)\n",
    "    \n",
    "    return train_dataloader, val_dataloader"
   ]
  },
  {
   "cell_type": "markdown",
   "id": "4e80a40c",
   "metadata": {},
   "source": [
    "# Road Pretrain Model"
   ]
  },
  {
   "cell_type": "code",
   "execution_count": 15,
   "id": "3fd8a098",
   "metadata": {
    "ExecuteTime": {
     "end_time": "2023-02-09T12:15:30.291360Z",
     "start_time": "2023-02-09T12:15:30.289120Z"
    }
   },
   "outputs": [],
   "source": [
    "def makeModel(params):\n",
    "    num_classes = params['num_classes']\n",
    "    model_name = params['model_name']\n",
    "    if model_name == 'RetinaNet':\n",
    "        model = models.detection.retinanet_resnet50_fpn(num_classes= num_classes).to(device)\n",
    "        return model\n",
    "    else:\n",
    "        raise Exception(\"정의 되지 않은 모델 호출\")"
   ]
  },
  {
   "cell_type": "markdown",
   "id": "694fc3e7",
   "metadata": {},
   "source": [
    "# Optimizer ,lr scheduler"
   ]
  },
  {
   "cell_type": "code",
   "execution_count": 16,
   "id": "37cbc575",
   "metadata": {
    "ExecuteTime": {
     "end_time": "2023-02-09T12:15:30.294645Z",
     "start_time": "2023-02-09T12:15:30.292158Z"
    }
   },
   "outputs": [],
   "source": [
    "def setScheduler(params,model):\n",
    "    opt_name = params['optimizer']\n",
    "    scheduler_name = params['scheduler']\n",
    "    init_lr = params['learning_rate']\n",
    "    factor = params['factor']\n",
    "    patience = params['patience']\n",
    "    \n",
    "    opt = optim.Adam(model.parameters(), lr=init_lr)\n",
    "    lr_scheduler = ReduceLROnPlateau(opt, mode='min', factor=factor, patience=patience)\n",
    "    \n",
    "    return opt, lr_scheduler"
   ]
  },
  {
   "cell_type": "code",
   "execution_count": 17,
   "id": "42c722ae",
   "metadata": {
    "ExecuteTime": {
     "end_time": "2023-02-09T12:15:30.300578Z",
     "start_time": "2023-02-09T12:15:30.295600Z"
    }
   },
   "outputs": [],
   "source": [
    "# 현재 lr 계산\n",
    "def get_lr(opt):\n",
    "    for param_group in opt.param_groups:\n",
    "        return param_group['lr']\n",
    "\n",
    "def train_val(params):\n",
    "    num_epochs=params['num_epochs']\n",
    "    opt=params['optimizer']\n",
    "    lr_scheduler=params['scheduler']\n",
    "    path2weights=params['path2weights']\n",
    "    model = makeModel(params)\n",
    "#     model = torch.nn.DataParallel(model, device_ids=list(range(NGPU)))\n",
    "#     torch.multiprocessing.set_start_method('spawn')\n",
    "    opt, lr_scheduler = setScheduler(params,model)\n",
    "    train_dl, val_dl= makeDataLoader(params)\n",
    "\n",
    "    best_loss = float('inf')\n",
    "    torch.save(model.state_dict(),path2weights)\n",
    "    current_lr = 0\n",
    "\n",
    "\n",
    "    for epoch in range(num_epochs):\n",
    "        start_time = time.time()\n",
    "        epoch_loss = 0\n",
    "        train_loss = 0\n",
    "        val_loss = 0\n",
    "        current_lr = get_lr(opt)\n",
    "        model.train()\n",
    "        for images, targets in train_dl:\n",
    "            images = list(image.to(device) for image in images)\n",
    "            targets = [{k: v.to(device) for k, v in t.items()} for t in targets]\n",
    "            \n",
    "            loss_dict = model(images, targets)\n",
    "            losses = sum(loss for loss in loss_dict.values())\n",
    "            \n",
    "            opt.zero_grad()\n",
    "            losses.backward()\n",
    "            opt.step()\n",
    "            \n",
    "            train_loss += losses \n",
    "\n",
    "        model.eval()\n",
    "        with torch.no_grad():\n",
    "            for images, targets in val_dl:\n",
    "                images = list(image.to(device) for image in images)\n",
    "                targets = [{k: v.to(device) for k, v in t.items()} for t in targets]\n",
    "\n",
    "                loss_dict = model(images, targets)\n",
    "                losses = sum(loss for loss in loss_dict.values())\n",
    "\n",
    "                val_loss += losses\n",
    "\n",
    "        if val_loss < best_loss:\n",
    "            best_loss = val_loss\n",
    "            torch.save(model.state_dict(),path2weights)\n",
    "            print('Copied best model weights!')\n",
    "\n",
    "        lr_scheduler.step(val_loss)\n",
    "\n",
    "        if current_lr != get_lr(opt):\n",
    "            print('Loading best model weights')\n",
    "            model.load_state_dict(torch.load(path2weights))\n",
    "\n",
    "#         run[\"train/loss\"].append(train_loss)\n",
    "#         run[\"val/loss\"].append(val_loss)\n",
    "        \n",
    "        print('train loss: %.6f, val loss: %.6f, time: %.4f min' %(train_loss, val_loss, (time.time()-start_time)/60))\n",
    "\n",
    "    model.load_state_dict(torch.load(path2weights))\n",
    "    return model"
   ]
  },
  {
   "cell_type": "code",
   "execution_count": 18,
   "id": "56012fda",
   "metadata": {
    "ExecuteTime": {
     "end_time": "2023-02-09T12:18:12.024098Z",
     "start_time": "2023-02-09T12:15:30.301522Z"
    }
   },
   "outputs": [
    {
     "ename": "KeyboardInterrupt",
     "evalue": "",
     "output_type": "error",
     "traceback": [
      "\u001b[0;31m---------------------------------------------------------------------------\u001b[0m",
      "\u001b[0;31mKeyboardInterrupt\u001b[0m                         Traceback (most recent call last)",
      "Cell \u001b[0;32mIn[18], line 27\u001b[0m\n\u001b[1;32m      8\u001b[0m params \u001b[38;5;241m=\u001b[39m {\n\u001b[1;32m      9\u001b[0m     \u001b[38;5;124m'\u001b[39m\u001b[38;5;124mnum_epochs\u001b[39m\u001b[38;5;124m'\u001b[39m:\u001b[38;5;241m100\u001b[39m,\n\u001b[1;32m     10\u001b[0m     \u001b[38;5;124m'\u001b[39m\u001b[38;5;124mnum_classes\u001b[39m\u001b[38;5;124m'\u001b[39m : \u001b[38;5;241m24\u001b[39m,\n\u001b[0;32m   (...)\u001b[0m\n\u001b[1;32m     20\u001b[0m     \u001b[38;5;124m'\u001b[39m\u001b[38;5;124mpath2weights\u001b[39m\u001b[38;5;124m'\u001b[39m: \u001b[38;5;124mf\u001b[39m\u001b[38;5;124m\"\u001b[39m\u001b[38;5;124m./models/\u001b[39m\u001b[38;5;132;01m{\u001b[39;00mrun_id\u001b[38;5;132;01m}\u001b[39;00m\u001b[38;5;124m.pt\u001b[39m\u001b[38;5;124m\"\u001b[39m\n\u001b[1;32m     21\u001b[0m }\n\u001b[1;32m     23\u001b[0m \u001b[38;5;66;03m# run[\"parameters\"] = params\u001b[39;00m\n\u001b[1;32m     24\u001b[0m \u001b[38;5;66;03m# run[\"train/dataset\"].track_files('../Data/train_df')\u001b[39;00m\n\u001b[1;32m     25\u001b[0m \u001b[38;5;66;03m# run[\"val/dataset\"].track_files('../Data/val_df')\u001b[39;00m\n\u001b[0;32m---> 27\u001b[0m model \u001b[38;5;241m=\u001b[39m \u001b[43mtrain_val\u001b[49m\u001b[43m(\u001b[49m\u001b[43mparams\u001b[49m\u001b[43m)\u001b[49m\n\u001b[1;32m     29\u001b[0m \u001b[38;5;66;03m# run[\"model_weights\"].upload(path2weight)\u001b[39;00m\n\u001b[1;32m     30\u001b[0m \u001b[38;5;66;03m# run.stop()\u001b[39;00m\n",
      "Cell \u001b[0;32mIn[17], line 33\u001b[0m, in \u001b[0;36mtrain_val\u001b[0;34m(params)\u001b[0m\n\u001b[1;32m     30\u001b[0m images \u001b[38;5;241m=\u001b[39m \u001b[38;5;28mlist\u001b[39m(image\u001b[38;5;241m.\u001b[39mto(device) \u001b[38;5;28;01mfor\u001b[39;00m image \u001b[38;5;129;01min\u001b[39;00m images)\n\u001b[1;32m     31\u001b[0m targets \u001b[38;5;241m=\u001b[39m [{k: v\u001b[38;5;241m.\u001b[39mto(device) \u001b[38;5;28;01mfor\u001b[39;00m k, v \u001b[38;5;129;01min\u001b[39;00m t\u001b[38;5;241m.\u001b[39mitems()} \u001b[38;5;28;01mfor\u001b[39;00m t \u001b[38;5;129;01min\u001b[39;00m targets]\n\u001b[0;32m---> 33\u001b[0m loss_dict \u001b[38;5;241m=\u001b[39m \u001b[43mmodel\u001b[49m\u001b[43m(\u001b[49m\u001b[43mimages\u001b[49m\u001b[43m,\u001b[49m\u001b[43m \u001b[49m\u001b[43mtargets\u001b[49m\u001b[43m)\u001b[49m\n\u001b[1;32m     34\u001b[0m losses \u001b[38;5;241m=\u001b[39m \u001b[38;5;28msum\u001b[39m(loss \u001b[38;5;28;01mfor\u001b[39;00m loss \u001b[38;5;129;01min\u001b[39;00m loss_dict\u001b[38;5;241m.\u001b[39mvalues())\n\u001b[1;32m     36\u001b[0m opt\u001b[38;5;241m.\u001b[39mzero_grad()\n",
      "File \u001b[0;32m~/anaconda3/envs/Junhyeok/lib/python3.9/site-packages/torch/nn/modules/module.py:1130\u001b[0m, in \u001b[0;36mModule._call_impl\u001b[0;34m(self, *input, **kwargs)\u001b[0m\n\u001b[1;32m   1126\u001b[0m \u001b[38;5;66;03m# If we don't have any hooks, we want to skip the rest of the logic in\u001b[39;00m\n\u001b[1;32m   1127\u001b[0m \u001b[38;5;66;03m# this function, and just call forward.\u001b[39;00m\n\u001b[1;32m   1128\u001b[0m \u001b[38;5;28;01mif\u001b[39;00m \u001b[38;5;129;01mnot\u001b[39;00m (\u001b[38;5;28mself\u001b[39m\u001b[38;5;241m.\u001b[39m_backward_hooks \u001b[38;5;129;01mor\u001b[39;00m \u001b[38;5;28mself\u001b[39m\u001b[38;5;241m.\u001b[39m_forward_hooks \u001b[38;5;129;01mor\u001b[39;00m \u001b[38;5;28mself\u001b[39m\u001b[38;5;241m.\u001b[39m_forward_pre_hooks \u001b[38;5;129;01mor\u001b[39;00m _global_backward_hooks\n\u001b[1;32m   1129\u001b[0m         \u001b[38;5;129;01mor\u001b[39;00m _global_forward_hooks \u001b[38;5;129;01mor\u001b[39;00m _global_forward_pre_hooks):\n\u001b[0;32m-> 1130\u001b[0m     \u001b[38;5;28;01mreturn\u001b[39;00m \u001b[43mforward_call\u001b[49m\u001b[43m(\u001b[49m\u001b[38;5;241;43m*\u001b[39;49m\u001b[38;5;28;43minput\u001b[39;49m\u001b[43m,\u001b[49m\u001b[43m \u001b[49m\u001b[38;5;241;43m*\u001b[39;49m\u001b[38;5;241;43m*\u001b[39;49m\u001b[43mkwargs\u001b[49m\u001b[43m)\u001b[49m\n\u001b[1;32m   1131\u001b[0m \u001b[38;5;66;03m# Do not call functions when jit is used\u001b[39;00m\n\u001b[1;32m   1132\u001b[0m full_backward_hooks, non_full_backward_hooks \u001b[38;5;241m=\u001b[39m [], []\n",
      "File \u001b[0;32m~/anaconda3/envs/Junhyeok/lib/python3.9/site-packages/torchvision/models/detection/retinanet.py:627\u001b[0m, in \u001b[0;36mRetinaNet.forward\u001b[0;34m(self, images, targets)\u001b[0m\n\u001b[1;32m    620\u001b[0m             torch\u001b[38;5;241m.\u001b[39m_assert(\n\u001b[1;32m    621\u001b[0m                 \u001b[38;5;28;01mFalse\u001b[39;00m,\n\u001b[1;32m    622\u001b[0m                 \u001b[38;5;124m\"\u001b[39m\u001b[38;5;124mAll bounding boxes should have positive height and width.\u001b[39m\u001b[38;5;124m\"\u001b[39m\n\u001b[1;32m    623\u001b[0m                 \u001b[38;5;124mf\u001b[39m\u001b[38;5;124m\"\u001b[39m\u001b[38;5;124m Found invalid box \u001b[39m\u001b[38;5;132;01m{\u001b[39;00mdegen_bb\u001b[38;5;132;01m}\u001b[39;00m\u001b[38;5;124m for target at index \u001b[39m\u001b[38;5;132;01m{\u001b[39;00mtarget_idx\u001b[38;5;132;01m}\u001b[39;00m\u001b[38;5;124m.\u001b[39m\u001b[38;5;124m\"\u001b[39m,\n\u001b[1;32m    624\u001b[0m             )\n\u001b[1;32m    626\u001b[0m \u001b[38;5;66;03m# get the features from the backbone\u001b[39;00m\n\u001b[0;32m--> 627\u001b[0m features \u001b[38;5;241m=\u001b[39m \u001b[38;5;28;43mself\u001b[39;49m\u001b[38;5;241;43m.\u001b[39;49m\u001b[43mbackbone\u001b[49m\u001b[43m(\u001b[49m\u001b[43mimages\u001b[49m\u001b[38;5;241;43m.\u001b[39;49m\u001b[43mtensors\u001b[49m\u001b[43m)\u001b[49m\n\u001b[1;32m    628\u001b[0m \u001b[38;5;28;01mif\u001b[39;00m \u001b[38;5;28misinstance\u001b[39m(features, torch\u001b[38;5;241m.\u001b[39mTensor):\n\u001b[1;32m    629\u001b[0m     features \u001b[38;5;241m=\u001b[39m OrderedDict([(\u001b[38;5;124m\"\u001b[39m\u001b[38;5;124m0\u001b[39m\u001b[38;5;124m\"\u001b[39m, features)])\n",
      "File \u001b[0;32m~/anaconda3/envs/Junhyeok/lib/python3.9/site-packages/torch/nn/modules/module.py:1130\u001b[0m, in \u001b[0;36mModule._call_impl\u001b[0;34m(self, *input, **kwargs)\u001b[0m\n\u001b[1;32m   1126\u001b[0m \u001b[38;5;66;03m# If we don't have any hooks, we want to skip the rest of the logic in\u001b[39;00m\n\u001b[1;32m   1127\u001b[0m \u001b[38;5;66;03m# this function, and just call forward.\u001b[39;00m\n\u001b[1;32m   1128\u001b[0m \u001b[38;5;28;01mif\u001b[39;00m \u001b[38;5;129;01mnot\u001b[39;00m (\u001b[38;5;28mself\u001b[39m\u001b[38;5;241m.\u001b[39m_backward_hooks \u001b[38;5;129;01mor\u001b[39;00m \u001b[38;5;28mself\u001b[39m\u001b[38;5;241m.\u001b[39m_forward_hooks \u001b[38;5;129;01mor\u001b[39;00m \u001b[38;5;28mself\u001b[39m\u001b[38;5;241m.\u001b[39m_forward_pre_hooks \u001b[38;5;129;01mor\u001b[39;00m _global_backward_hooks\n\u001b[1;32m   1129\u001b[0m         \u001b[38;5;129;01mor\u001b[39;00m _global_forward_hooks \u001b[38;5;129;01mor\u001b[39;00m _global_forward_pre_hooks):\n\u001b[0;32m-> 1130\u001b[0m     \u001b[38;5;28;01mreturn\u001b[39;00m \u001b[43mforward_call\u001b[49m\u001b[43m(\u001b[49m\u001b[38;5;241;43m*\u001b[39;49m\u001b[38;5;28;43minput\u001b[39;49m\u001b[43m,\u001b[49m\u001b[43m \u001b[49m\u001b[38;5;241;43m*\u001b[39;49m\u001b[38;5;241;43m*\u001b[39;49m\u001b[43mkwargs\u001b[49m\u001b[43m)\u001b[49m\n\u001b[1;32m   1131\u001b[0m \u001b[38;5;66;03m# Do not call functions when jit is used\u001b[39;00m\n\u001b[1;32m   1132\u001b[0m full_backward_hooks, non_full_backward_hooks \u001b[38;5;241m=\u001b[39m [], []\n",
      "File \u001b[0;32m~/anaconda3/envs/Junhyeok/lib/python3.9/site-packages/torchvision/models/detection/backbone_utils.py:58\u001b[0m, in \u001b[0;36mBackboneWithFPN.forward\u001b[0;34m(self, x)\u001b[0m\n\u001b[1;32m     56\u001b[0m \u001b[38;5;28;01mdef\u001b[39;00m \u001b[38;5;21mforward\u001b[39m(\u001b[38;5;28mself\u001b[39m, x: Tensor) \u001b[38;5;241m-\u001b[39m\u001b[38;5;241m>\u001b[39m Dict[\u001b[38;5;28mstr\u001b[39m, Tensor]:\n\u001b[1;32m     57\u001b[0m     x \u001b[38;5;241m=\u001b[39m \u001b[38;5;28mself\u001b[39m\u001b[38;5;241m.\u001b[39mbody(x)\n\u001b[0;32m---> 58\u001b[0m     x \u001b[38;5;241m=\u001b[39m \u001b[38;5;28;43mself\u001b[39;49m\u001b[38;5;241;43m.\u001b[39;49m\u001b[43mfpn\u001b[49m\u001b[43m(\u001b[49m\u001b[43mx\u001b[49m\u001b[43m)\u001b[49m\n\u001b[1;32m     59\u001b[0m     \u001b[38;5;28;01mreturn\u001b[39;00m x\n",
      "File \u001b[0;32m~/anaconda3/envs/Junhyeok/lib/python3.9/site-packages/torch/nn/modules/module.py:1130\u001b[0m, in \u001b[0;36mModule._call_impl\u001b[0;34m(self, *input, **kwargs)\u001b[0m\n\u001b[1;32m   1126\u001b[0m \u001b[38;5;66;03m# If we don't have any hooks, we want to skip the rest of the logic in\u001b[39;00m\n\u001b[1;32m   1127\u001b[0m \u001b[38;5;66;03m# this function, and just call forward.\u001b[39;00m\n\u001b[1;32m   1128\u001b[0m \u001b[38;5;28;01mif\u001b[39;00m \u001b[38;5;129;01mnot\u001b[39;00m (\u001b[38;5;28mself\u001b[39m\u001b[38;5;241m.\u001b[39m_backward_hooks \u001b[38;5;129;01mor\u001b[39;00m \u001b[38;5;28mself\u001b[39m\u001b[38;5;241m.\u001b[39m_forward_hooks \u001b[38;5;129;01mor\u001b[39;00m \u001b[38;5;28mself\u001b[39m\u001b[38;5;241m.\u001b[39m_forward_pre_hooks \u001b[38;5;129;01mor\u001b[39;00m _global_backward_hooks\n\u001b[1;32m   1129\u001b[0m         \u001b[38;5;129;01mor\u001b[39;00m _global_forward_hooks \u001b[38;5;129;01mor\u001b[39;00m _global_forward_pre_hooks):\n\u001b[0;32m-> 1130\u001b[0m     \u001b[38;5;28;01mreturn\u001b[39;00m \u001b[43mforward_call\u001b[49m\u001b[43m(\u001b[49m\u001b[38;5;241;43m*\u001b[39;49m\u001b[38;5;28;43minput\u001b[39;49m\u001b[43m,\u001b[49m\u001b[43m \u001b[49m\u001b[38;5;241;43m*\u001b[39;49m\u001b[38;5;241;43m*\u001b[39;49m\u001b[43mkwargs\u001b[49m\u001b[43m)\u001b[49m\n\u001b[1;32m   1131\u001b[0m \u001b[38;5;66;03m# Do not call functions when jit is used\u001b[39;00m\n\u001b[1;32m   1132\u001b[0m full_backward_hooks, non_full_backward_hooks \u001b[38;5;241m=\u001b[39m [], []\n",
      "File \u001b[0;32m~/anaconda3/envs/Junhyeok/lib/python3.9/site-packages/torchvision/ops/feature_pyramid_network.py:196\u001b[0m, in \u001b[0;36mFeaturePyramidNetwork.forward\u001b[0;34m(self, x)\u001b[0m\n\u001b[1;32m    194\u001b[0m     inner_top_down \u001b[38;5;241m=\u001b[39m F\u001b[38;5;241m.\u001b[39minterpolate(last_inner, size\u001b[38;5;241m=\u001b[39mfeat_shape, mode\u001b[38;5;241m=\u001b[39m\u001b[38;5;124m\"\u001b[39m\u001b[38;5;124mnearest\u001b[39m\u001b[38;5;124m\"\u001b[39m)\n\u001b[1;32m    195\u001b[0m     last_inner \u001b[38;5;241m=\u001b[39m inner_lateral \u001b[38;5;241m+\u001b[39m inner_top_down\n\u001b[0;32m--> 196\u001b[0m     results\u001b[38;5;241m.\u001b[39minsert(\u001b[38;5;241m0\u001b[39m, \u001b[38;5;28;43mself\u001b[39;49m\u001b[38;5;241;43m.\u001b[39;49m\u001b[43mget_result_from_layer_blocks\u001b[49m\u001b[43m(\u001b[49m\u001b[43mlast_inner\u001b[49m\u001b[43m,\u001b[49m\u001b[43m \u001b[49m\u001b[43midx\u001b[49m\u001b[43m)\u001b[49m)\n\u001b[1;32m    198\u001b[0m \u001b[38;5;28;01mif\u001b[39;00m \u001b[38;5;28mself\u001b[39m\u001b[38;5;241m.\u001b[39mextra_blocks \u001b[38;5;129;01mis\u001b[39;00m \u001b[38;5;129;01mnot\u001b[39;00m \u001b[38;5;28;01mNone\u001b[39;00m:\n\u001b[1;32m    199\u001b[0m     results, names \u001b[38;5;241m=\u001b[39m \u001b[38;5;28mself\u001b[39m\u001b[38;5;241m.\u001b[39mextra_blocks(results, x, names)\n",
      "File \u001b[0;32m~/anaconda3/envs/Junhyeok/lib/python3.9/site-packages/torchvision/ops/feature_pyramid_network.py:169\u001b[0m, in \u001b[0;36mFeaturePyramidNetwork.get_result_from_layer_blocks\u001b[0;34m(self, x, idx)\u001b[0m\n\u001b[1;32m    167\u001b[0m \u001b[38;5;28;01mfor\u001b[39;00m i, module \u001b[38;5;129;01min\u001b[39;00m \u001b[38;5;28menumerate\u001b[39m(\u001b[38;5;28mself\u001b[39m\u001b[38;5;241m.\u001b[39mlayer_blocks):\n\u001b[1;32m    168\u001b[0m     \u001b[38;5;28;01mif\u001b[39;00m i \u001b[38;5;241m==\u001b[39m idx:\n\u001b[0;32m--> 169\u001b[0m         out \u001b[38;5;241m=\u001b[39m \u001b[43mmodule\u001b[49m\u001b[43m(\u001b[49m\u001b[43mx\u001b[49m\u001b[43m)\u001b[49m\n\u001b[1;32m    170\u001b[0m \u001b[38;5;28;01mreturn\u001b[39;00m out\n",
      "File \u001b[0;32m~/anaconda3/envs/Junhyeok/lib/python3.9/site-packages/torch/nn/modules/module.py:1130\u001b[0m, in \u001b[0;36mModule._call_impl\u001b[0;34m(self, *input, **kwargs)\u001b[0m\n\u001b[1;32m   1126\u001b[0m \u001b[38;5;66;03m# If we don't have any hooks, we want to skip the rest of the logic in\u001b[39;00m\n\u001b[1;32m   1127\u001b[0m \u001b[38;5;66;03m# this function, and just call forward.\u001b[39;00m\n\u001b[1;32m   1128\u001b[0m \u001b[38;5;28;01mif\u001b[39;00m \u001b[38;5;129;01mnot\u001b[39;00m (\u001b[38;5;28mself\u001b[39m\u001b[38;5;241m.\u001b[39m_backward_hooks \u001b[38;5;129;01mor\u001b[39;00m \u001b[38;5;28mself\u001b[39m\u001b[38;5;241m.\u001b[39m_forward_hooks \u001b[38;5;129;01mor\u001b[39;00m \u001b[38;5;28mself\u001b[39m\u001b[38;5;241m.\u001b[39m_forward_pre_hooks \u001b[38;5;129;01mor\u001b[39;00m _global_backward_hooks\n\u001b[1;32m   1129\u001b[0m         \u001b[38;5;129;01mor\u001b[39;00m _global_forward_hooks \u001b[38;5;129;01mor\u001b[39;00m _global_forward_pre_hooks):\n\u001b[0;32m-> 1130\u001b[0m     \u001b[38;5;28;01mreturn\u001b[39;00m \u001b[43mforward_call\u001b[49m\u001b[43m(\u001b[49m\u001b[38;5;241;43m*\u001b[39;49m\u001b[38;5;28;43minput\u001b[39;49m\u001b[43m,\u001b[49m\u001b[43m \u001b[49m\u001b[38;5;241;43m*\u001b[39;49m\u001b[38;5;241;43m*\u001b[39;49m\u001b[43mkwargs\u001b[49m\u001b[43m)\u001b[49m\n\u001b[1;32m   1131\u001b[0m \u001b[38;5;66;03m# Do not call functions when jit is used\u001b[39;00m\n\u001b[1;32m   1132\u001b[0m full_backward_hooks, non_full_backward_hooks \u001b[38;5;241m=\u001b[39m [], []\n",
      "File \u001b[0;32m~/anaconda3/envs/Junhyeok/lib/python3.9/site-packages/torch/nn/modules/container.py:139\u001b[0m, in \u001b[0;36mSequential.forward\u001b[0;34m(self, input)\u001b[0m\n\u001b[1;32m    137\u001b[0m \u001b[38;5;28;01mdef\u001b[39;00m \u001b[38;5;21mforward\u001b[39m(\u001b[38;5;28mself\u001b[39m, \u001b[38;5;28minput\u001b[39m):\n\u001b[1;32m    138\u001b[0m     \u001b[38;5;28;01mfor\u001b[39;00m module \u001b[38;5;129;01min\u001b[39;00m \u001b[38;5;28mself\u001b[39m:\n\u001b[0;32m--> 139\u001b[0m         \u001b[38;5;28minput\u001b[39m \u001b[38;5;241m=\u001b[39m \u001b[43mmodule\u001b[49m\u001b[43m(\u001b[49m\u001b[38;5;28;43minput\u001b[39;49m\u001b[43m)\u001b[49m\n\u001b[1;32m    140\u001b[0m     \u001b[38;5;28;01mreturn\u001b[39;00m \u001b[38;5;28minput\u001b[39m\n",
      "File \u001b[0;32m~/anaconda3/envs/Junhyeok/lib/python3.9/site-packages/torch/nn/modules/module.py:1130\u001b[0m, in \u001b[0;36mModule._call_impl\u001b[0;34m(self, *input, **kwargs)\u001b[0m\n\u001b[1;32m   1126\u001b[0m \u001b[38;5;66;03m# If we don't have any hooks, we want to skip the rest of the logic in\u001b[39;00m\n\u001b[1;32m   1127\u001b[0m \u001b[38;5;66;03m# this function, and just call forward.\u001b[39;00m\n\u001b[1;32m   1128\u001b[0m \u001b[38;5;28;01mif\u001b[39;00m \u001b[38;5;129;01mnot\u001b[39;00m (\u001b[38;5;28mself\u001b[39m\u001b[38;5;241m.\u001b[39m_backward_hooks \u001b[38;5;129;01mor\u001b[39;00m \u001b[38;5;28mself\u001b[39m\u001b[38;5;241m.\u001b[39m_forward_hooks \u001b[38;5;129;01mor\u001b[39;00m \u001b[38;5;28mself\u001b[39m\u001b[38;5;241m.\u001b[39m_forward_pre_hooks \u001b[38;5;129;01mor\u001b[39;00m _global_backward_hooks\n\u001b[1;32m   1129\u001b[0m         \u001b[38;5;129;01mor\u001b[39;00m _global_forward_hooks \u001b[38;5;129;01mor\u001b[39;00m _global_forward_pre_hooks):\n\u001b[0;32m-> 1130\u001b[0m     \u001b[38;5;28;01mreturn\u001b[39;00m \u001b[43mforward_call\u001b[49m\u001b[43m(\u001b[49m\u001b[38;5;241;43m*\u001b[39;49m\u001b[38;5;28;43minput\u001b[39;49m\u001b[43m,\u001b[49m\u001b[43m \u001b[49m\u001b[38;5;241;43m*\u001b[39;49m\u001b[38;5;241;43m*\u001b[39;49m\u001b[43mkwargs\u001b[49m\u001b[43m)\u001b[49m\n\u001b[1;32m   1131\u001b[0m \u001b[38;5;66;03m# Do not call functions when jit is used\u001b[39;00m\n\u001b[1;32m   1132\u001b[0m full_backward_hooks, non_full_backward_hooks \u001b[38;5;241m=\u001b[39m [], []\n",
      "File \u001b[0;32m~/anaconda3/envs/Junhyeok/lib/python3.9/site-packages/torch/nn/modules/conv.py:457\u001b[0m, in \u001b[0;36mConv2d.forward\u001b[0;34m(self, input)\u001b[0m\n\u001b[1;32m    456\u001b[0m \u001b[38;5;28;01mdef\u001b[39;00m \u001b[38;5;21mforward\u001b[39m(\u001b[38;5;28mself\u001b[39m, \u001b[38;5;28minput\u001b[39m: Tensor) \u001b[38;5;241m-\u001b[39m\u001b[38;5;241m>\u001b[39m Tensor:\n\u001b[0;32m--> 457\u001b[0m     \u001b[38;5;28;01mreturn\u001b[39;00m \u001b[38;5;28;43mself\u001b[39;49m\u001b[38;5;241;43m.\u001b[39;49m\u001b[43m_conv_forward\u001b[49m\u001b[43m(\u001b[49m\u001b[38;5;28;43minput\u001b[39;49m\u001b[43m,\u001b[49m\u001b[43m \u001b[49m\u001b[38;5;28;43mself\u001b[39;49m\u001b[38;5;241;43m.\u001b[39;49m\u001b[43mweight\u001b[49m\u001b[43m,\u001b[49m\u001b[43m \u001b[49m\u001b[38;5;28;43mself\u001b[39;49m\u001b[38;5;241;43m.\u001b[39;49m\u001b[43mbias\u001b[49m\u001b[43m)\u001b[49m\n",
      "File \u001b[0;32m~/anaconda3/envs/Junhyeok/lib/python3.9/site-packages/torch/nn/modules/conv.py:453\u001b[0m, in \u001b[0;36mConv2d._conv_forward\u001b[0;34m(self, input, weight, bias)\u001b[0m\n\u001b[1;32m    449\u001b[0m \u001b[38;5;28;01mif\u001b[39;00m \u001b[38;5;28mself\u001b[39m\u001b[38;5;241m.\u001b[39mpadding_mode \u001b[38;5;241m!=\u001b[39m \u001b[38;5;124m'\u001b[39m\u001b[38;5;124mzeros\u001b[39m\u001b[38;5;124m'\u001b[39m:\n\u001b[1;32m    450\u001b[0m     \u001b[38;5;28;01mreturn\u001b[39;00m F\u001b[38;5;241m.\u001b[39mconv2d(F\u001b[38;5;241m.\u001b[39mpad(\u001b[38;5;28minput\u001b[39m, \u001b[38;5;28mself\u001b[39m\u001b[38;5;241m.\u001b[39m_reversed_padding_repeated_twice, mode\u001b[38;5;241m=\u001b[39m\u001b[38;5;28mself\u001b[39m\u001b[38;5;241m.\u001b[39mpadding_mode),\n\u001b[1;32m    451\u001b[0m                     weight, bias, \u001b[38;5;28mself\u001b[39m\u001b[38;5;241m.\u001b[39mstride,\n\u001b[1;32m    452\u001b[0m                     _pair(\u001b[38;5;241m0\u001b[39m), \u001b[38;5;28mself\u001b[39m\u001b[38;5;241m.\u001b[39mdilation, \u001b[38;5;28mself\u001b[39m\u001b[38;5;241m.\u001b[39mgroups)\n\u001b[0;32m--> 453\u001b[0m \u001b[38;5;28;01mreturn\u001b[39;00m \u001b[43mF\u001b[49m\u001b[38;5;241;43m.\u001b[39;49m\u001b[43mconv2d\u001b[49m\u001b[43m(\u001b[49m\u001b[38;5;28;43minput\u001b[39;49m\u001b[43m,\u001b[49m\u001b[43m \u001b[49m\u001b[43mweight\u001b[49m\u001b[43m,\u001b[49m\u001b[43m \u001b[49m\u001b[43mbias\u001b[49m\u001b[43m,\u001b[49m\u001b[43m \u001b[49m\u001b[38;5;28;43mself\u001b[39;49m\u001b[38;5;241;43m.\u001b[39;49m\u001b[43mstride\u001b[49m\u001b[43m,\u001b[49m\n\u001b[1;32m    454\u001b[0m \u001b[43m                \u001b[49m\u001b[38;5;28;43mself\u001b[39;49m\u001b[38;5;241;43m.\u001b[39;49m\u001b[43mpadding\u001b[49m\u001b[43m,\u001b[49m\u001b[43m \u001b[49m\u001b[38;5;28;43mself\u001b[39;49m\u001b[38;5;241;43m.\u001b[39;49m\u001b[43mdilation\u001b[49m\u001b[43m,\u001b[49m\u001b[43m \u001b[49m\u001b[38;5;28;43mself\u001b[39;49m\u001b[38;5;241;43m.\u001b[39;49m\u001b[43mgroups\u001b[49m\u001b[43m)\u001b[49m\n",
      "\u001b[0;31mKeyboardInterrupt\u001b[0m: "
     ]
    }
   ],
   "source": [
    "# run = neptune.init_run(\n",
    "#     project=\"DigitalMediaLab/SmallObj\",\n",
    "#     api_token=\"eyJhcGlfYWRkcmVzcyI6Imh0dHBzOi8vYXBwLm5lcHR1bmUuYWkiLCJhcGlfdXJsIjoiaHR0cHM6Ly9hcHAubmVwdHVuZS5haSIsImFwaV9rZXkiOiJhMDljNTU0ZC03NGM4LTQwNzEtYTBlNi0yYzE1OGZiNmE1MjkifQ==\",\n",
    "# )  # your credentials\n",
    "# run_id = run[\"sys/id\"].fetch()\n",
    "run_id = 100\n",
    "\n",
    "params = {\n",
    "    'num_epochs':100,\n",
    "    'num_classes' : 24,\n",
    "    'batch_size' : 2,\n",
    "    'optimizer':\"Adam\",\n",
    "    'loss_func':\"FocalLoss\",\n",
    "    'model_name' : 'RetinaNet',\n",
    "    'learning_rate' : 0.01,\n",
    "    'scheduler':\"ReduceLROnPlateau\",\n",
    "    'factor' : 0.1,\n",
    "    'patience' : 15,\n",
    "    'tag' : 'Retina torchvision model',\n",
    "    'path2weights': f\"./models/{run_id}.pt\"\n",
    "}\n",
    "\n",
    "# run[\"parameters\"] = params\n",
    "# run[\"train/dataset\"].track_files('../Data/train_df')\n",
    "# run[\"val/dataset\"].track_files('../Data/val_df')\n",
    "\n",
    "model = train_val(params)\n",
    "\n",
    "# run[\"model_weights\"].upload(path2weight)\n",
    "# run.stop()"
   ]
  },
  {
   "cell_type": "code",
   "execution_count": null,
   "id": "0e4175b7",
   "metadata": {
    "ExecuteTime": {
     "end_time": "2023-02-09T12:18:12.032588Z",
     "start_time": "2023-02-09T12:18:12.032580Z"
    }
   },
   "outputs": [],
   "source": [
    "run.stop()"
   ]
  },
  {
   "cell_type": "code",
   "execution_count": null,
   "id": "d87b6bc1",
   "metadata": {},
   "outputs": [],
   "source": []
  },
  {
   "cell_type": "code",
   "execution_count": null,
   "id": "24fe41b6",
   "metadata": {},
   "outputs": [],
   "source": []
  }
 ],
 "metadata": {
  "kernelspec": {
   "display_name": "Junhyeok",
   "language": "python",
   "name": "junhyeok"
  },
  "language_info": {
   "codemirror_mode": {
    "name": "ipython",
    "version": 3
   },
   "file_extension": ".py",
   "mimetype": "text/x-python",
   "name": "python",
   "nbconvert_exporter": "python",
   "pygments_lexer": "ipython3",
   "version": "3.9.16"
  },
  "neptune": {
   "notebookId": "985eaf65-f569-46da-a862-d6bbac23e921",
   "projectVersion": 2
  },
  "toc": {
   "base_numbering": 1,
   "nav_menu": {},
   "number_sections": true,
   "sideBar": true,
   "skip_h1_title": false,
   "title_cell": "Table of Contents",
   "title_sidebar": "Contents",
   "toc_cell": false,
   "toc_position": {},
   "toc_section_display": true,
   "toc_window_display": false
  },
  "varInspector": {
   "cols": {
    "lenName": 16,
    "lenType": 16,
    "lenVar": 40
   },
   "kernels_config": {
    "python": {
     "delete_cmd_postfix": "",
     "delete_cmd_prefix": "del ",
     "library": "var_list.py",
     "varRefreshCmd": "print(var_dic_list())"
    },
    "r": {
     "delete_cmd_postfix": ") ",
     "delete_cmd_prefix": "rm(",
     "library": "var_list.r",
     "varRefreshCmd": "cat(var_dic_list()) "
    }
   },
   "position": {
    "height": "427.827px",
    "left": "1314.55px",
    "right": "20px",
    "top": "120px",
    "width": "350px"
   },
   "types_to_exclude": [
    "module",
    "function",
    "builtin_function_or_method",
    "instance",
    "_Feature"
   ],
   "window_display": false
  }
 },
 "nbformat": 4,
 "nbformat_minor": 5
}
